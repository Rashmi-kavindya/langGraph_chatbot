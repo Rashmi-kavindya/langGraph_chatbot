{
 "cells": [
  {
   "cell_type": "code",
   "execution_count": 1,
   "id": "634dda36-58d4-4476-85c3-ae9abcd19fbf",
   "metadata": {},
   "outputs": [
    {
     "name": "stdout",
     "output_type": "stream",
     "text": [
      "Requirement already satisfied: langgraph in c:\\users\\rashmi kavindya\\appdata\\local\\programs\\python\\python39\\lib\\site-packages (0.3.27)\n",
      "Requirement already satisfied: langsmith in c:\\users\\rashmi kavindya\\appdata\\local\\programs\\python\\python39\\lib\\site-packages (0.3.28)\n",
      "Requirement already satisfied: langchain in c:\\users\\rashmi kavindya\\appdata\\local\\programs\\python\\python39\\lib\\site-packages (0.3.23)\n",
      "Requirement already satisfied: langchain_groq in c:\\users\\rashmi kavindya\\appdata\\local\\programs\\python\\python39\\lib\\site-packages (0.3.2)\n",
      "Requirement already satisfied: langchain_community in c:\\users\\rashmi kavindya\\appdata\\local\\programs\\python\\python39\\lib\\site-packages (0.3.21)\n",
      "Requirement already satisfied: langchain-core<0.4,>=0.1 in c:\\users\\rashmi kavindya\\appdata\\local\\programs\\python\\python39\\lib\\site-packages (from langgraph) (0.3.51)\n",
      "Requirement already satisfied: langgraph-checkpoint<3.0.0,>=2.0.10 in c:\\users\\rashmi kavindya\\appdata\\local\\programs\\python\\python39\\lib\\site-packages (from langgraph) (2.0.24)\n",
      "Requirement already satisfied: langgraph-prebuilt<0.2,>=0.1.1 in c:\\users\\rashmi kavindya\\appdata\\local\\programs\\python\\python39\\lib\\site-packages (from langgraph) (0.1.8)\n",
      "Requirement already satisfied: langgraph-sdk<0.2.0,>=0.1.42 in c:\\users\\rashmi kavindya\\appdata\\local\\programs\\python\\python39\\lib\\site-packages (from langgraph) (0.1.61)\n",
      "Requirement already satisfied: xxhash<4.0.0,>=3.5.0 in c:\\users\\rashmi kavindya\\appdata\\local\\programs\\python\\python39\\lib\\site-packages (from langgraph) (3.5.0)\n",
      "Requirement already satisfied: httpx<1,>=0.23.0 in c:\\users\\rashmi kavindya\\appdata\\local\\programs\\python\\python39\\lib\\site-packages (from langsmith) (0.28.1)\n",
      "Requirement already satisfied: orjson<4.0.0,>=3.9.14 in c:\\users\\rashmi kavindya\\appdata\\local\\programs\\python\\python39\\lib\\site-packages (from langsmith) (3.10.16)\n",
      "Requirement already satisfied: packaging>=23.2 in c:\\users\\rashmi kavindya\\appdata\\local\\programs\\python\\python39\\lib\\site-packages (from langsmith) (23.2)\n",
      "Requirement already satisfied: pydantic<3,>=1 in c:\\users\\rashmi kavindya\\appdata\\local\\programs\\python\\python39\\lib\\site-packages (from langsmith) (2.11.3)\n",
      "Requirement already satisfied: requests<3,>=2 in c:\\users\\rashmi kavindya\\appdata\\local\\programs\\python\\python39\\lib\\site-packages (from langsmith) (2.32.3)\n",
      "Requirement already satisfied: requests-toolbelt<2.0.0,>=1.0.0 in c:\\users\\rashmi kavindya\\appdata\\local\\programs\\python\\python39\\lib\\site-packages (from langsmith) (1.0.0)\n",
      "Requirement already satisfied: zstandard<0.24.0,>=0.23.0 in c:\\users\\rashmi kavindya\\appdata\\local\\programs\\python\\python39\\lib\\site-packages (from langsmith) (0.23.0)\n",
      "Requirement already satisfied: langchain-text-splitters<1.0.0,>=0.3.8 in c:\\users\\rashmi kavindya\\appdata\\local\\programs\\python\\python39\\lib\\site-packages (from langchain) (0.3.8)\n",
      "Requirement already satisfied: SQLAlchemy<3,>=1.4 in c:\\users\\rashmi kavindya\\appdata\\local\\programs\\python\\python39\\lib\\site-packages (from langchain) (2.0.40)\n",
      "Requirement already satisfied: PyYAML>=5.3 in c:\\users\\rashmi kavindya\\appdata\\local\\programs\\python\\python39\\lib\\site-packages (from langchain) (6.0.2)\n",
      "Requirement already satisfied: async-timeout<5.0.0,>=4.0.0 in c:\\users\\rashmi kavindya\\appdata\\local\\programs\\python\\python39\\lib\\site-packages (from langchain) (4.0.3)\n",
      "Requirement already satisfied: groq<1,>=0.4.1 in c:\\users\\rashmi kavindya\\appdata\\local\\programs\\python\\python39\\lib\\site-packages (from langchain_groq) (0.22.0)\n",
      "Requirement already satisfied: aiohttp<4.0.0,>=3.8.3 in c:\\users\\rashmi kavindya\\appdata\\local\\programs\\python\\python39\\lib\\site-packages (from langchain_community) (3.11.16)\n",
      "Requirement already satisfied: tenacity!=8.4.0,<10,>=8.1.0 in c:\\users\\rashmi kavindya\\appdata\\local\\programs\\python\\python39\\lib\\site-packages (from langchain_community) (9.1.2)\n",
      "Requirement already satisfied: dataclasses-json<0.7,>=0.5.7 in c:\\users\\rashmi kavindya\\appdata\\local\\programs\\python\\python39\\lib\\site-packages (from langchain_community) (0.6.7)\n",
      "Requirement already satisfied: pydantic-settings<3.0.0,>=2.4.0 in c:\\users\\rashmi kavindya\\appdata\\local\\programs\\python\\python39\\lib\\site-packages (from langchain_community) (2.8.1)\n",
      "Requirement already satisfied: httpx-sse<1.0.0,>=0.4.0 in c:\\users\\rashmi kavindya\\appdata\\local\\programs\\python\\python39\\lib\\site-packages (from langchain_community) (0.4.0)\n",
      "Requirement already satisfied: numpy<3,>=1.26.2 in c:\\users\\rashmi kavindya\\appdata\\local\\programs\\python\\python39\\lib\\site-packages (from langchain_community) (1.26.2)\n",
      "Requirement already satisfied: aiohappyeyeballs>=2.3.0 in c:\\users\\rashmi kavindya\\appdata\\local\\programs\\python\\python39\\lib\\site-packages (from aiohttp<4.0.0,>=3.8.3->langchain_community) (2.6.1)\n",
      "Requirement already satisfied: aiosignal>=1.1.2 in c:\\users\\rashmi kavindya\\appdata\\local\\programs\\python\\python39\\lib\\site-packages (from aiohttp<4.0.0,>=3.8.3->langchain_community) (1.3.2)\n",
      "Requirement already satisfied: attrs>=17.3.0 in c:\\users\\rashmi kavindya\\appdata\\local\\programs\\python\\python39\\lib\\site-packages (from aiohttp<4.0.0,>=3.8.3->langchain_community) (25.3.0)\n",
      "Requirement already satisfied: frozenlist>=1.1.1 in c:\\users\\rashmi kavindya\\appdata\\local\\programs\\python\\python39\\lib\\site-packages (from aiohttp<4.0.0,>=3.8.3->langchain_community) (1.5.0)\n",
      "Requirement already satisfied: multidict<7.0,>=4.5 in c:\\users\\rashmi kavindya\\appdata\\local\\programs\\python\\python39\\lib\\site-packages (from aiohttp<4.0.0,>=3.8.3->langchain_community) (6.4.2)\n",
      "Requirement already satisfied: propcache>=0.2.0 in c:\\users\\rashmi kavindya\\appdata\\local\\programs\\python\\python39\\lib\\site-packages (from aiohttp<4.0.0,>=3.8.3->langchain_community) (0.3.1)\n",
      "Requirement already satisfied: yarl<2.0,>=1.17.0 in c:\\users\\rashmi kavindya\\appdata\\local\\programs\\python\\python39\\lib\\site-packages (from aiohttp<4.0.0,>=3.8.3->langchain_community) (1.19.0)\n",
      "Requirement already satisfied: marshmallow<4.0.0,>=3.18.0 in c:\\users\\rashmi kavindya\\appdata\\local\\programs\\python\\python39\\lib\\site-packages (from dataclasses-json<0.7,>=0.5.7->langchain_community) (3.26.1)\n",
      "Requirement already satisfied: typing-inspect<1,>=0.4.0 in c:\\users\\rashmi kavindya\\appdata\\local\\programs\\python\\python39\\lib\\site-packages (from dataclasses-json<0.7,>=0.5.7->langchain_community) (0.9.0)\n",
      "Requirement already satisfied: anyio<5,>=3.5.0 in c:\\users\\rashmi kavindya\\appdata\\local\\programs\\python\\python39\\lib\\site-packages (from groq<1,>=0.4.1->langchain_groq) (4.9.0)\n",
      "Requirement already satisfied: distro<2,>=1.7.0 in c:\\users\\rashmi kavindya\\appdata\\local\\programs\\python\\python39\\lib\\site-packages (from groq<1,>=0.4.1->langchain_groq) (1.9.0)\n",
      "Requirement already satisfied: sniffio in c:\\users\\rashmi kavindya\\appdata\\local\\programs\\python\\python39\\lib\\site-packages (from groq<1,>=0.4.1->langchain_groq) (1.3.1)\n",
      "Requirement already satisfied: typing-extensions<5,>=4.10 in c:\\users\\rashmi kavindya\\appdata\\local\\programs\\python\\python39\\lib\\site-packages (from groq<1,>=0.4.1->langchain_groq) (4.12.2)\n",
      "Requirement already satisfied: certifi in c:\\users\\rashmi kavindya\\appdata\\local\\programs\\python\\python39\\lib\\site-packages (from httpx<1,>=0.23.0->langsmith) (2024.6.2)\n",
      "Requirement already satisfied: httpcore==1.* in c:\\users\\rashmi kavindya\\appdata\\local\\programs\\python\\python39\\lib\\site-packages (from httpx<1,>=0.23.0->langsmith) (1.0.7)\n",
      "Requirement already satisfied: idna in c:\\users\\rashmi kavindya\\appdata\\local\\programs\\python\\python39\\lib\\site-packages (from httpx<1,>=0.23.0->langsmith) (3.7)\n",
      "Requirement already satisfied: h11<0.15,>=0.13 in c:\\users\\rashmi kavindya\\appdata\\local\\programs\\python\\python39\\lib\\site-packages (from httpcore==1.*->httpx<1,>=0.23.0->langsmith) (0.14.0)\n",
      "Requirement already satisfied: jsonpatch<2.0,>=1.33 in c:\\users\\rashmi kavindya\\appdata\\local\\programs\\python\\python39\\lib\\site-packages (from langchain-core<0.4,>=0.1->langgraph) (1.33)\n",
      "Requirement already satisfied: ormsgpack<2.0.0,>=1.8.0 in c:\\users\\rashmi kavindya\\appdata\\local\\programs\\python\\python39\\lib\\site-packages (from langgraph-checkpoint<3.0.0,>=2.0.10->langgraph) (1.9.1)\n",
      "Requirement already satisfied: annotated-types>=0.6.0 in c:\\users\\rashmi kavindya\\appdata\\local\\programs\\python\\python39\\lib\\site-packages (from pydantic<3,>=1->langsmith) (0.7.0)\n",
      "Requirement already satisfied: pydantic-core==2.33.1 in c:\\users\\rashmi kavindya\\appdata\\local\\programs\\python\\python39\\lib\\site-packages (from pydantic<3,>=1->langsmith) (2.33.1)\n",
      "Requirement already satisfied: typing-inspection>=0.4.0 in c:\\users\\rashmi kavindya\\appdata\\local\\programs\\python\\python39\\lib\\site-packages (from pydantic<3,>=1->langsmith) (0.4.0)\n",
      "Requirement already satisfied: python-dotenv>=0.21.0 in c:\\users\\rashmi kavindya\\appdata\\local\\programs\\python\\python39\\lib\\site-packages (from pydantic-settings<3.0.0,>=2.4.0->langchain_community) (1.1.0)\n",
      "Requirement already satisfied: charset-normalizer<4,>=2 in c:\\users\\rashmi kavindya\\appdata\\local\\programs\\python\\python39\\lib\\site-packages (from requests<3,>=2->langsmith) (3.3.2)\n",
      "Requirement already satisfied: urllib3<3,>=1.21.1 in c:\\users\\rashmi kavindya\\appdata\\local\\programs\\python\\python39\\lib\\site-packages (from requests<3,>=2->langsmith) (2.2.2)\n",
      "Requirement already satisfied: greenlet>=1 in c:\\users\\rashmi kavindya\\appdata\\local\\programs\\python\\python39\\lib\\site-packages (from SQLAlchemy<3,>=1.4->langchain) (3.1.1)\n",
      "Requirement already satisfied: exceptiongroup>=1.0.2 in c:\\users\\rashmi kavindya\\appdata\\local\\programs\\python\\python39\\lib\\site-packages (from anyio<5,>=3.5.0->groq<1,>=0.4.1->langchain_groq) (1.2.2)\n",
      "Requirement already satisfied: jsonpointer>=1.9 in c:\\users\\rashmi kavindya\\appdata\\local\\programs\\python\\python39\\lib\\site-packages (from jsonpatch<2.0,>=1.33->langchain-core<0.4,>=0.1->langgraph) (3.0.0)\n",
      "Requirement already satisfied: mypy-extensions>=0.3.0 in c:\\users\\rashmi kavindya\\appdata\\local\\programs\\python\\python39\\lib\\site-packages (from typing-inspect<1,>=0.4.0->dataclasses-json<0.7,>=0.5.7->langchain_community) (1.0.0)\n"
     ]
    }
   ],
   "source": [
    "!pip install langgraph langsmith langchain langchain_groq langchain_community"
   ]
  },
  {
   "cell_type": "code",
   "execution_count": 2,
   "id": "5c176201-f880-4cfc-824d-c5c46f8759f0",
   "metadata": {},
   "outputs": [],
   "source": [
    "from typing import Annotated\n",
    "from typing_extensions import TypedDict"
   ]
  },
  {
   "cell_type": "code",
   "execution_count": 3,
   "id": "862e8f76-aca0-4757-9116-83f973170661",
   "metadata": {},
   "outputs": [
    {
     "name": "stdout",
     "output_type": "stream",
     "text": [
      "Requirement already satisfied: arxiv in c:\\users\\rashmi kavindya\\appdata\\local\\programs\\python\\python39\\lib\\site-packages (2.2.0)\n",
      "Requirement already satisfied: wikipedia in c:\\users\\rashmi kavindya\\appdata\\local\\programs\\python\\python39\\lib\\site-packages (1.4.0)\n",
      "Requirement already satisfied: feedparser~=6.0.10 in c:\\users\\rashmi kavindya\\appdata\\local\\programs\\python\\python39\\lib\\site-packages (from arxiv) (6.0.11)\n",
      "Requirement already satisfied: requests~=2.32.0 in c:\\users\\rashmi kavindya\\appdata\\local\\programs\\python\\python39\\lib\\site-packages (from arxiv) (2.32.3)\n",
      "Requirement already satisfied: beautifulsoup4 in c:\\users\\rashmi kavindya\\appdata\\local\\programs\\python\\python39\\lib\\site-packages (from wikipedia) (4.13.3)\n",
      "Requirement already satisfied: sgmllib3k in c:\\users\\rashmi kavindya\\appdata\\local\\programs\\python\\python39\\lib\\site-packages (from feedparser~=6.0.10->arxiv) (1.0.0)\n",
      "Requirement already satisfied: charset-normalizer<4,>=2 in c:\\users\\rashmi kavindya\\appdata\\local\\programs\\python\\python39\\lib\\site-packages (from requests~=2.32.0->arxiv) (3.3.2)\n",
      "Requirement already satisfied: idna<4,>=2.5 in c:\\users\\rashmi kavindya\\appdata\\local\\programs\\python\\python39\\lib\\site-packages (from requests~=2.32.0->arxiv) (3.7)\n",
      "Requirement already satisfied: urllib3<3,>=1.21.1 in c:\\users\\rashmi kavindya\\appdata\\local\\programs\\python\\python39\\lib\\site-packages (from requests~=2.32.0->arxiv) (2.2.2)\n",
      "Requirement already satisfied: certifi>=2017.4.17 in c:\\users\\rashmi kavindya\\appdata\\local\\programs\\python\\python39\\lib\\site-packages (from requests~=2.32.0->arxiv) (2024.6.2)\n",
      "Requirement already satisfied: soupsieve>1.2 in c:\\users\\rashmi kavindya\\appdata\\local\\programs\\python\\python39\\lib\\site-packages (from beautifulsoup4->wikipedia) (2.6)\n",
      "Requirement already satisfied: typing-extensions>=4.0.0 in c:\\users\\rashmi kavindya\\appdata\\local\\programs\\python\\python39\\lib\\site-packages (from beautifulsoup4->wikipedia) (4.12.2)\n"
     ]
    }
   ],
   "source": [
    "!pip install arxiv wikipedia"
   ]
  },
  {
   "cell_type": "code",
   "execution_count": 4,
   "id": "d6a08c15-ff8b-494d-a14a-dd1d4155c5d6",
   "metadata": {},
   "outputs": [],
   "source": [
    "## Working with Tools\n",
    "\n",
    "from langchain_community.utilities import ArxivAPIWrapper, WikipediaAPIWrapper\n",
    "from langchain_community.tools import ArxivQueryRun, WikipediaQueryRun\n",
    "\n",
    "## Arxiv And Wikipedia tools\n",
    "arxiv_wrapper = ArxivAPIWrapper(top_k_results=1, doc_content_chars_max=300)\n",
    "arxiv_tools = ArxivQueryRun(api_wrapper=arxiv_wrapper)\n",
    "\n",
    "api_wrapper = WikipediaAPIWrapper(top_k_resuls=1, doc_content_chars_max=300)\n",
    "wiki_tools = WikipediaQueryRun(api_wrapper=api_wrapper)"
   ]
  },
  {
   "cell_type": "code",
   "execution_count": 5,
   "id": "bff8eaa1-b784-45b5-a870-b29293df38c5",
   "metadata": {},
   "outputs": [
    {
     "data": {
      "text/plain": [
       "'Page: Shah Rukh Khan\\nSummary: Shah Rukh Khan (pronounced [ˈʃaːɦɾʊx xäːn] ; born 2 November 1965), also known by the initialism SRK, is an Indian actor and film producer who works in Hindi cinema. Referred to in the media as the \"Baadshah of Bollywood\" and \"King Khan\", he has appeared in more than 10'"
      ]
     },
     "execution_count": 5,
     "metadata": {},
     "output_type": "execute_result"
    }
   ],
   "source": [
    "wiki_tools.invoke(\"who is Sharukh Khan\")"
   ]
  },
  {
   "cell_type": "code",
   "execution_count": 6,
   "id": "5677fc4f-a002-4c40-b9ba-b58f3ebea0d1",
   "metadata": {},
   "outputs": [
    {
     "data": {
      "text/plain": [
       "'Page: President of Sri Lanka\\nSummary: The president of Sri Lanka (Sinhala: ශ්\\u200dරී ලංකා ජනාධිපති Śrī Laṅkā Janādhipati; Tamil: இலங்கை ஜனாதிபதி Ilaṇkai janātipati) is the head of state and head of government of the Democratic Socialist Republic of Sri Lanka. The president is the chief executive of the '"
      ]
     },
     "execution_count": 6,
     "metadata": {},
     "output_type": "execute_result"
    }
   ],
   "source": [
    "wiki_tools.invoke(\"who is president of sri lanka\")"
   ]
  },
  {
   "cell_type": "code",
   "execution_count": 7,
   "id": "64793fba-f54e-4775-b834-d5f06dfeb11a",
   "metadata": {},
   "outputs": [
    {
     "data": {
      "text/plain": [
       "\"Published: 2024-07-22\\nTitle: Attention Is All You Need But You Don't Need All Of It For Inference of Large Language Models\\nAuthors: Georgy Tyukin, Gbetondji J-S Dovonon, Jean Kaddour, Pasquale Minervini\\nSummary: The inference demand for LLMs has skyrocketed in recent months, and serving\\nmodels with \""
      ]
     },
     "execution_count": 7,
     "metadata": {},
     "output_type": "execute_result"
    }
   ],
   "source": [
    "arxiv_tools.invoke(\"Attention is all you need\")"
   ]
  },
  {
   "cell_type": "code",
   "execution_count": 10,
   "id": "186d6c99-6e62-42bd-8d10-645e22da1cac",
   "metadata": {},
   "outputs": [],
   "source": [
    "tools = [wiki_tools]"
   ]
  },
  {
   "cell_type": "markdown",
   "id": "1a8c1617-f60d-433a-8381-a33de2fe05ff",
   "metadata": {},
   "source": [
    "## Langgraph Application"
   ]
  },
  {
   "cell_type": "code",
   "execution_count": 11,
   "id": "e31f9420-d552-4036-b06d-36f597ddcce8",
   "metadata": {},
   "outputs": [],
   "source": [
    "from langgraph.graph.message import add_messages\n",
    "class State(TypedDict):\n",
    "    messages:Annotated[list, add_messages]"
   ]
  },
  {
   "cell_type": "code",
   "execution_count": 12,
   "id": "78c2827a-7b34-41ce-baa7-c20f71508388",
   "metadata": {},
   "outputs": [],
   "source": [
    "from langgraph.graph import StateGraph, START, END"
   ]
  },
  {
   "cell_type": "code",
   "execution_count": 13,
   "id": "8641935f-9547-4faf-8a89-c47c47a7f781",
   "metadata": {},
   "outputs": [],
   "source": [
    "graph_builder = StateGraph(State)"
   ]
  },
  {
   "cell_type": "code",
   "execution_count": 14,
   "id": "6a1af80f-d063-488d-8062-81546dc8c3b0",
   "metadata": {},
   "outputs": [],
   "source": [
    "from langchain_groq import ChatGroq"
   ]
  },
  {
   "cell_type": "code",
   "execution_count": 15,
   "id": "b06d7c3c-8678-47cc-97e7-fd377093c4c2",
   "metadata": {},
   "outputs": [],
   "source": [
    "import os\n",
    "from dotenv import load_dotenv\n",
    "\n",
    "# Load environment variables\n",
    "load_dotenv()\n",
    "\n",
    "# Retrieve API key\n",
    "groq_api_key = os.getenv(\"GROQ_API_KEY\")"
   ]
  },
  {
   "cell_type": "code",
   "execution_count": 21,
   "id": "b82ff1a2-a17e-4db0-9567-e69e18bfdccb",
   "metadata": {},
   "outputs": [
    {
     "data": {
      "text/plain": [
       "ChatGroq(client=<groq.resources.chat.completions.Completions object at 0x0000027527E8F580>, async_client=<groq.resources.chat.completions.AsyncCompletions object at 0x0000027527E98AC0>, model_name='Gemma2-9b-It', model_kwargs={}, groq_api_key=SecretStr('**********'))"
      ]
     },
     "execution_count": 21,
     "metadata": {},
     "output_type": "execute_result"
    }
   ],
   "source": [
    "llm = ChatGroq(groq_api_key = groq_api_key, model_name = \"Gemma2-9b-It\")\n",
    "llm"
   ]
  },
  {
   "cell_type": "code",
   "execution_count": 22,
   "id": "0ff4d0a1-2912-474f-a557-e1124b069b27",
   "metadata": {},
   "outputs": [],
   "source": [
    "llm_with_tools = llm.bind_tools(tools = tools)"
   ]
  },
  {
   "cell_type": "code",
   "execution_count": 23,
   "id": "00bfceab-e759-4936-8041-f0d8ebcc9282",
   "metadata": {},
   "outputs": [],
   "source": [
    "def chatbot(state:State):\n",
    "    return{\"messages\":[llm_with_tools.invoke(state[\"messages\"])]}"
   ]
  },
  {
   "cell_type": "code",
   "execution_count": 25,
   "id": "f1890f54-54a9-4ad3-9d24-b3a3d7e7b475",
   "metadata": {},
   "outputs": [],
   "source": [
    "from langgraph.prebuilt import ToolNode, tools_condition"
   ]
  },
  {
   "cell_type": "code",
   "execution_count": 27,
   "id": "22848d08-4ffd-469d-8853-48d3ca854d6f",
   "metadata": {},
   "outputs": [
    {
     "data": {
      "text/plain": [
       "<langgraph.graph.state.StateGraph at 0x275238c4d60>"
      ]
     },
     "execution_count": 27,
     "metadata": {},
     "output_type": "execute_result"
    }
   ],
   "source": [
    "graph_builder.add_node(\"chatbot\",chatbot)\n",
    "graph_builder.add_edge(START, \"chatbot\")\n",
    "tool_node = ToolNode(tools = tools)\n",
    "graph_builder.add_node(\"tools\", tool_node)\n",
    "\n",
    "graph_builder.add_conditional_edges(\n",
    "    \"chatbot\",\n",
    "    tools_condition\n",
    ")\n",
    "\n",
    "graph_builder.add_edge(\"tools\", \"chatbot\")\n",
    "graph_builder.add_edge(\"chatbot\", END)"
   ]
  },
  {
   "cell_type": "code",
   "execution_count": 28,
   "id": "27dc5a18-1143-40e8-8f93-a627803ce2f1",
   "metadata": {},
   "outputs": [],
   "source": [
    "graph = graph_builder.compile()"
   ]
  },
  {
   "cell_type": "code",
   "execution_count": 29,
   "id": "2e087a6e-f5ec-443d-a33d-1ff4ebf67462",
   "metadata": {},
   "outputs": [
    {
     "data": {
      "image/png": "[encoded data removed]",
      "text/plain": [
       "<IPython.core.display.Image object>"
      ]
     },
     "metadata": {},
     "output_type": "display_data"
    }
   ],
   "source": [
    "from IPython.display import Image, display\n",
    "try:\n",
    "    display(Image(graph.get_graph().draw_mermaid_png()))\n",
    "except Exception:\n",
    "    pass"
   ]
  },
  {
   "cell_type": "code",
   "execution_count": 38,
   "id": "0bd427e0-a6c5-4625-972e-7785c43851a8",
   "metadata": {},
   "outputs": [
    {
     "name": "stdout",
     "output_type": "stream",
     "text": [
      "================================\u001b[1m Human Message \u001b[0m=================================\n",
      "\n",
      "Who is president of Sri Lanka?\n",
      "==================================\u001b[1m Ai Message \u001b[0m==================================\n",
      "Tool Calls:\n",
      "  wikipedia (call_egz1)\n",
      " Call ID: call_egz1\n",
      "  Args:\n",
      "    query: President of Sri Lanka\n",
      "=================================\u001b[1m Tool Message \u001b[0m=================================\n",
      "Name: wikipedia\n",
      "\n",
      "Page: President of Sri Lanka\n",
      "Summary: The president of Sri Lanka (Sinhala: ශ්‍රී ලංකා ජනාධිපති Śrī Laṅkā Janādhipati; Tamil: இலங்கை ஜனாதிபதி Ilaṇkai janātipati) is the head of state and head of government of the Democratic Socialist Republic of Sri Lanka. The president is the chief executive of the \n",
      "==================================\u001b[1m Ai Message \u001b[0m==================================\n",
      "\n",
      "Ranil Wickremesinghe\n"
     ]
    }
   ],
   "source": [
    "user_input = \"Who is president of Sri Lanka?\"\n",
    "\n",
    "events = graph.stream(\n",
    "    {\"messages\": [(\"user\", user_input)]}, stream_mode = \"values\"\n",
    ")\n",
    "\n",
    "for event in events:\n",
    "    event[\"messages\"][-1].pretty_print()"
   ]
  },
  {
   "cell_type": "code",
   "execution_count": 39,
   "id": "ae0e1600-e07f-480d-ad43-d267886bbf85",
   "metadata": {},
   "outputs": [
    {
     "name": "stdout",
     "output_type": "stream",
     "text": [
      "================================\u001b[1m Human Message \u001b[0m=================================\n",
      "\n",
      "what is RLHF.\n",
      "==================================\u001b[1m Ai Message \u001b[0m==================================\n",
      "Tool Calls:\n",
      "  wikipedia (call_makf)\n",
      " Call ID: call_makf\n",
      "  Args:\n",
      "    query: RLHF\n",
      "=================================\u001b[1m Tool Message \u001b[0m=================================\n",
      "Name: wikipedia\n",
      "\n",
      "Page: Reinforcement learning from human feedback\n",
      "Summary: In machine learning, reinforcement learning from human feedback (RLHF) is a technique to align an intelligent agent with human preferences. It involves training a reward model to represent preferences, which can then be used to train other mo\n",
      "==================================\u001b[1m Ai Message \u001b[0m==================================\n",
      "\n",
      "Reinforcement learning from human feedback (RLHF) is a technique to align an intelligent agent with human preferences. It involves training a reward model to represent preferences, which can then be used to train other models to perform tasks in a way that is more likely to be preferred by humans.\n"
     ]
    }
   ],
   "source": [
    "user_input = \"what is RLHF.\"\n",
    "\n",
    "# The config is the **second positional argument** to stream() or invoke()!\n",
    "events = graph.stream(\n",
    "    {\"messages\": [(\"user\", user_input)]},stream_mode=\"values\"\n",
    ")\n",
    "for event in events:\n",
    "    event[\"messages\"][-1].pretty_print()"
   ]
  },
  {
   "cell_type": "code",
   "execution_count": null,
   "id": "9e08dcb8-b42f-4df0-9729-bbce9d100787",
   "metadata": {},
   "outputs": [],
   "source": []
  }
 ],
 "metadata": {
  "kernelspec": {
   "display_name": "Python 3 (ipykernel)",
   "language": "python",
   "name": "python3"
  },
  "language_info": {
   "codemirror_mode": {
    "name": "ipython",
    "version": 3
   },
   "file_extension": ".py",
   "mimetype": "text/x-python",
   "name": "python",
   "nbconvert_exporter": "python",
   "pygments_lexer": "ipython3",
   "version": "3.9.7"
  }
 },
 "nbformat": 4,
 "nbformat_minor": 5
}
